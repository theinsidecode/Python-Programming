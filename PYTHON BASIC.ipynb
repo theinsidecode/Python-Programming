{
 "cells": [
  {
   "cell_type": "raw",
   "id": "e3335bb4",
   "metadata": {},
   "source": [
    "BASIC DATATYPES IN PYTHON"
   ]
  },
  {
   "cell_type": "code",
   "execution_count": null,
   "id": "e3fbcf69",
   "metadata": {},
   "outputs": [],
   "source": []
  },
  {
   "cell_type": "raw",
   "id": "81cfaf1e",
   "metadata": {},
   "source": [
    "integers   |  int      |   1234\n",
    "decimals   |  float    |   56.4\n",
    "text       |  string   |   'nitin'  or  \"nitin"
   ]
  },
  {
   "cell_type": "code",
   "execution_count": null,
   "id": "a973cdeb",
   "metadata": {},
   "outputs": [],
   "source": []
  },
  {
   "cell_type": "code",
   "execution_count": null,
   "id": "c36094f6",
   "metadata": {},
   "outputs": [],
   "source": []
  },
  {
   "cell_type": "code",
   "execution_count": null,
   "id": "a1d5b798",
   "metadata": {},
   "outputs": [],
   "source": []
  },
  {
   "cell_type": "raw",
   "id": "8f9012c6",
   "metadata": {},
   "source": [
    "VARIABLE :  it is something which can stores or holds a value"
   ]
  },
  {
   "cell_type": "code",
   "execution_count": 1,
   "id": "79c6b65d",
   "metadata": {},
   "outputs": [],
   "source": [
    "a=10"
   ]
  },
  {
   "cell_type": "code",
   "execution_count": 2,
   "id": "6ff0e47a",
   "metadata": {},
   "outputs": [],
   "source": [
    "num=100"
   ]
  },
  {
   "cell_type": "code",
   "execution_count": null,
   "id": "18ac4aab",
   "metadata": {},
   "outputs": [],
   "source": [
    "num@=10"
   ]
  },
  {
   "cell_type": "code",
   "execution_count": null,
   "id": "f5a6bedb",
   "metadata": {},
   "outputs": [],
   "source": [
    "num12345=10"
   ]
  },
  {
   "cell_type": "code",
   "execution_count": null,
   "id": "402fc5d3",
   "metadata": {},
   "outputs": [],
   "source": [
    "5val=100"
   ]
  },
  {
   "cell_type": "raw",
   "id": "b5843f5b",
   "metadata": {},
   "source": [
    "Rules for declaring variable :\n",
    "1 It should starts with character or underscore\n",
    "2 it should not contains any special character except underscore"
   ]
  },
  {
   "cell_type": "raw",
   "id": "dff70d82",
   "metadata": {},
   "source": [
    "OPERATORS :\n",
    "\n",
    "+        Addition\n",
    "-        Substraction\n",
    "*        Multiplication\n",
    "/        Division\n",
    "%        Modulus\n",
    "//       Floor Division\n",
    "**       Exponential\n",
    "!        Not\n",
    "=        Assignment\n",
    "==       Equality \n",
    "and  \n",
    "or"
   ]
  },
  {
   "cell_type": "code",
   "execution_count": 4,
   "id": "18d1ccbe",
   "metadata": {},
   "outputs": [
    {
     "data": {
      "text/plain": [
       "3"
      ]
     },
     "execution_count": 4,
     "metadata": {},
     "output_type": "execute_result"
    }
   ],
   "source": [
    "15//4"
   ]
  },
  {
   "cell_type": "code",
   "execution_count": 5,
   "id": "665831fc",
   "metadata": {},
   "outputs": [
    {
     "data": {
      "text/plain": [
       "0.5"
      ]
     },
     "execution_count": 5,
     "metadata": {},
     "output_type": "execute_result"
    }
   ],
   "source": [
    "1/2"
   ]
  },
  {
   "cell_type": "code",
   "execution_count": 6,
   "id": "8ff04b97",
   "metadata": {},
   "outputs": [
    {
     "data": {
      "text/plain": [
       "0"
      ]
     },
     "execution_count": 6,
     "metadata": {},
     "output_type": "execute_result"
    }
   ],
   "source": [
    "1//2"
   ]
  },
  {
   "cell_type": "code",
   "execution_count": 7,
   "id": "d1f8b827",
   "metadata": {},
   "outputs": [
    {
     "data": {
      "text/plain": [
       "0"
      ]
     },
     "execution_count": 7,
     "metadata": {},
     "output_type": "execute_result"
    }
   ],
   "source": [
    "15%3"
   ]
  },
  {
   "cell_type": "code",
   "execution_count": 8,
   "id": "bb93061e",
   "metadata": {},
   "outputs": [
    {
     "data": {
      "text/plain": [
       "1"
      ]
     },
     "execution_count": 8,
     "metadata": {},
     "output_type": "execute_result"
    }
   ],
   "source": [
    "15%7"
   ]
  },
  {
   "cell_type": "code",
   "execution_count": 10,
   "id": "24bbce4d",
   "metadata": {},
   "outputs": [
    {
     "data": {
      "text/plain": [
       "8"
      ]
     },
     "execution_count": 10,
     "metadata": {},
     "output_type": "execute_result"
    }
   ],
   "source": [
    "2**3"
   ]
  },
  {
   "cell_type": "code",
   "execution_count": 11,
   "id": "159764a6",
   "metadata": {},
   "outputs": [],
   "source": [
    "a=10"
   ]
  },
  {
   "cell_type": "code",
   "execution_count": 13,
   "id": "c2c3d3d9",
   "metadata": {},
   "outputs": [
    {
     "data": {
      "text/plain": [
       "False"
      ]
     },
     "execution_count": 13,
     "metadata": {},
     "output_type": "execute_result"
    }
   ],
   "source": [
    "a==11"
   ]
  },
  {
   "cell_type": "code",
   "execution_count": 14,
   "id": "3d589f7f",
   "metadata": {},
   "outputs": [
    {
     "data": {
      "text/plain": [
       "True"
      ]
     },
     "execution_count": 14,
     "metadata": {},
     "output_type": "execute_result"
    }
   ],
   "source": [
    "a==10"
   ]
  },
  {
   "cell_type": "code",
   "execution_count": 16,
   "id": "b5ca4723",
   "metadata": {},
   "outputs": [
    {
     "data": {
      "text/plain": [
       "False"
      ]
     },
     "execution_count": 16,
     "metadata": {},
     "output_type": "execute_result"
    }
   ],
   "source": [
    "a!=10"
   ]
  },
  {
   "cell_type": "code",
   "execution_count": 17,
   "id": "625b2005",
   "metadata": {},
   "outputs": [
    {
     "data": {
      "text/plain": [
       "False"
      ]
     },
     "execution_count": 17,
     "metadata": {},
     "output_type": "execute_result"
    }
   ],
   "source": [
    "a>100"
   ]
  },
  {
   "cell_type": "code",
   "execution_count": 18,
   "id": "0a2c488b",
   "metadata": {},
   "outputs": [
    {
     "data": {
      "text/plain": [
       "True"
      ]
     },
     "execution_count": 18,
     "metadata": {},
     "output_type": "execute_result"
    }
   ],
   "source": [
    "a>4"
   ]
  },
  {
   "cell_type": "code",
   "execution_count": 19,
   "id": "f1a3ffd7",
   "metadata": {},
   "outputs": [
    {
     "data": {
      "text/plain": [
       "False"
      ]
     },
     "execution_count": 19,
     "metadata": {},
     "output_type": "execute_result"
    }
   ],
   "source": [
    "True and False"
   ]
  },
  {
   "cell_type": "code",
   "execution_count": 20,
   "id": "74b2d92a",
   "metadata": {},
   "outputs": [
    {
     "data": {
      "text/plain": [
       "True"
      ]
     },
     "execution_count": 20,
     "metadata": {},
     "output_type": "execute_result"
    }
   ],
   "source": [
    "True and True"
   ]
  },
  {
   "cell_type": "code",
   "execution_count": 21,
   "id": "5b957efd",
   "metadata": {},
   "outputs": [
    {
     "data": {
      "text/plain": [
       "True"
      ]
     },
     "execution_count": 21,
     "metadata": {},
     "output_type": "execute_result"
    }
   ],
   "source": [
    "True or False"
   ]
  },
  {
   "cell_type": "code",
   "execution_count": 22,
   "id": "7e0496a1",
   "metadata": {},
   "outputs": [
    {
     "data": {
      "text/plain": [
       "True"
      ]
     },
     "execution_count": 22,
     "metadata": {},
     "output_type": "execute_result"
    }
   ],
   "source": [
    "False or True"
   ]
  },
  {
   "cell_type": "code",
   "execution_count": null,
   "id": "be6d75c8",
   "metadata": {},
   "outputs": [],
   "source": [
    "True=1\n",
    "False=0"
   ]
  },
  {
   "cell_type": "code",
   "execution_count": null,
   "id": "08d94dd8",
   "metadata": {},
   "outputs": [],
   "source": []
  },
  {
   "cell_type": "code",
   "execution_count": null,
   "id": "49483ef5",
   "metadata": {},
   "outputs": [],
   "source": []
  },
  {
   "cell_type": "code",
   "execution_count": null,
   "id": "952ed3d6",
   "metadata": {},
   "outputs": [],
   "source": []
  },
  {
   "cell_type": "code",
   "execution_count": null,
   "id": "574d5788",
   "metadata": {},
   "outputs": [],
   "source": []
  },
  {
   "cell_type": "code",
   "execution_count": null,
   "id": "cc985e9d",
   "metadata": {},
   "outputs": [],
   "source": []
  },
  {
   "cell_type": "code",
   "execution_count": null,
   "id": "868b9aeb",
   "metadata": {},
   "outputs": [],
   "source": []
  },
  {
   "cell_type": "raw",
   "id": "b49f7f50",
   "metadata": {},
   "source": [
    "First inbuilt function  ---->   print()"
   ]
  },
  {
   "cell_type": "code",
   "execution_count": 23,
   "id": "9caa8249",
   "metadata": {},
   "outputs": [],
   "source": [
    "name='walker'\n",
    "age=34\n",
    "per=89.3"
   ]
  },
  {
   "cell_type": "code",
   "execution_count": 24,
   "id": "2de06a83",
   "metadata": {},
   "outputs": [
    {
     "name": "stdout",
     "output_type": "stream",
     "text": [
      "walker\n"
     ]
    }
   ],
   "source": [
    "print(name)"
   ]
  },
  {
   "cell_type": "code",
   "execution_count": 25,
   "id": "baa3a45d",
   "metadata": {},
   "outputs": [
    {
     "name": "stdout",
     "output_type": "stream",
     "text": [
      "34\n"
     ]
    }
   ],
   "source": [
    "print(age)"
   ]
  },
  {
   "cell_type": "code",
   "execution_count": 26,
   "id": "913c8c4f",
   "metadata": {},
   "outputs": [
    {
     "name": "stdout",
     "output_type": "stream",
     "text": [
      "89.3\n"
     ]
    }
   ],
   "source": [
    "print(per)"
   ]
  },
  {
   "cell_type": "code",
   "execution_count": 28,
   "id": "625f181a",
   "metadata": {},
   "outputs": [
    {
     "name": "stdout",
     "output_type": "stream",
     "text": [
      "Hello\n"
     ]
    }
   ],
   "source": [
    "print(\"Hello\")"
   ]
  },
  {
   "cell_type": "code",
   "execution_count": 29,
   "id": "c56ca3ac",
   "metadata": {},
   "outputs": [
    {
     "name": "stdout",
     "output_type": "stream",
     "text": [
      "123\n"
     ]
    }
   ],
   "source": [
    "print(123)"
   ]
  },
  {
   "cell_type": "code",
   "execution_count": null,
   "id": "fd5554e9",
   "metadata": {},
   "outputs": [],
   "source": []
  },
  {
   "cell_type": "code",
   "execution_count": null,
   "id": "2cf5b4c9",
   "metadata": {},
   "outputs": [],
   "source": []
  },
  {
   "cell_type": "raw",
   "id": "f19a6929",
   "metadata": {},
   "source": [
    "USER INPUT"
   ]
  },
  {
   "cell_type": "code",
   "execution_count": 30,
   "id": "94365807",
   "metadata": {},
   "outputs": [
    {
     "name": "stdout",
     "output_type": "stream",
     "text": [
      "Enter your nameharshit\n"
     ]
    }
   ],
   "source": [
    "mouse=input('Enter your name')"
   ]
  },
  {
   "cell_type": "code",
   "execution_count": null,
   "id": "fed31e44",
   "metadata": {},
   "outputs": [],
   "source": [
    "Enter your nameharshit"
   ]
  },
  {
   "cell_type": "code",
   "execution_count": 31,
   "id": "1efda377",
   "metadata": {},
   "outputs": [
    {
     "name": "stdout",
     "output_type": "stream",
     "text": [
      "harshit\n"
     ]
    }
   ],
   "source": [
    "print(mouse)"
   ]
  },
  {
   "cell_type": "code",
   "execution_count": 35,
   "id": "b330878e",
   "metadata": {},
   "outputs": [
    {
     "name": "stdout",
     "output_type": "stream",
     "text": [
      "Enter first number2.3\n",
      "Enter second number4.2\n",
      "6.5\n"
     ]
    }
   ],
   "source": [
    "n1=float(input(\"Enter first number\"))\n",
    "n2=float(input(\"Enter second number\"))\n",
    "total=n1+n2\n",
    "print(total)"
   ]
  },
  {
   "cell_type": "code",
   "execution_count": null,
   "id": "a91d0a9a",
   "metadata": {},
   "outputs": [],
   "source": [
    "input()"
   ]
  },
  {
   "cell_type": "code",
   "execution_count": 33,
   "id": "0145c610",
   "metadata": {},
   "outputs": [
    {
     "data": {
      "text/plain": [
       "5"
      ]
     },
     "execution_count": 33,
     "metadata": {},
     "output_type": "execute_result"
    }
   ],
   "source": [
    "int('5')"
   ]
  },
  {
   "cell_type": "code",
   "execution_count": null,
   "id": "e04dbc8d",
   "metadata": {},
   "outputs": [],
   "source": []
  },
  {
   "cell_type": "code",
   "execution_count": null,
   "id": "ea588d41",
   "metadata": {},
   "outputs": [],
   "source": []
  },
  {
   "cell_type": "code",
   "execution_count": null,
   "id": "9a4388e7",
   "metadata": {},
   "outputs": [],
   "source": []
  },
  {
   "cell_type": "raw",
   "id": "2bad4bb6",
   "metadata": {},
   "source": [
    "STRING IN PYTHON WITH BASIC FUNCTIONS"
   ]
  },
  {
   "cell_type": "code",
   "execution_count": 36,
   "id": "23613048",
   "metadata": {},
   "outputs": [],
   "source": [
    "val='elephant'"
   ]
  },
  {
   "cell_type": "code",
   "execution_count": 37,
   "id": "c9aa18ca",
   "metadata": {},
   "outputs": [
    {
     "name": "stdout",
     "output_type": "stream",
     "text": [
      "elephant\n"
     ]
    }
   ],
   "source": [
    "print(val)"
   ]
  },
  {
   "cell_type": "code",
   "execution_count": null,
   "id": "4d8efcf7",
   "metadata": {},
   "outputs": [],
   "source": [
    " -8-7-6-5-4-3-2-1\n",
    "val='elephant'\n",
    "     01234567"
   ]
  },
  {
   "cell_type": "code",
   "execution_count": 38,
   "id": "b431b86b",
   "metadata": {},
   "outputs": [
    {
     "data": {
      "text/plain": [
       "'e'"
      ]
     },
     "execution_count": 38,
     "metadata": {},
     "output_type": "execute_result"
    }
   ],
   "source": [
    "val[0]"
   ]
  },
  {
   "cell_type": "code",
   "execution_count": 41,
   "id": "b82ecab9",
   "metadata": {},
   "outputs": [
    {
     "data": {
      "text/plain": [
       "'t'"
      ]
     },
     "execution_count": 41,
     "metadata": {},
     "output_type": "execute_result"
    }
   ],
   "source": [
    "val[-1]"
   ]
  },
  {
   "cell_type": "code",
   "execution_count": null,
   "id": "10d71745",
   "metadata": {},
   "outputs": [],
   "source": [
    "range(1,5)"
   ]
  },
  {
   "cell_type": "code",
   "execution_count": null,
   "id": "9833b1ea",
   "metadata": {},
   "outputs": [],
   "source": [
    "[1:5]\n",
    "LB UB\n",
    "#Python always exclude the upperbound value"
   ]
  },
  {
   "cell_type": "code",
   "execution_count": 42,
   "id": "5f2cd0e5",
   "metadata": {},
   "outputs": [
    {
     "data": {
      "text/plain": [
       "'elephant'"
      ]
     },
     "execution_count": 42,
     "metadata": {},
     "output_type": "execute_result"
    }
   ],
   "source": [
    "val"
   ]
  },
  {
   "cell_type": "code",
   "execution_count": 43,
   "id": "4d0e563f",
   "metadata": {},
   "outputs": [
    {
     "data": {
      "text/plain": [
       "'leph'"
      ]
     },
     "execution_count": 43,
     "metadata": {},
     "output_type": "execute_result"
    }
   ],
   "source": [
    "val[1:5]"
   ]
  },
  {
   "cell_type": "code",
   "execution_count": 44,
   "id": "7741eec7",
   "metadata": {},
   "outputs": [
    {
     "data": {
      "text/plain": [
       "'epha'"
      ]
     },
     "execution_count": 44,
     "metadata": {},
     "output_type": "execute_result"
    }
   ],
   "source": [
    "val[2:-2]"
   ]
  },
  {
   "cell_type": "code",
   "execution_count": null,
   "id": "770be200",
   "metadata": {},
   "outputs": [],
   "source": []
  },
  {
   "cell_type": "raw",
   "id": "4e5bc77e",
   "metadata": {},
   "source": [
    "BASIC INBUILT FUNCTIONS\n",
    "len()\n",
    "startswith()\n",
    "endswith()\n",
    "lstrip()\n",
    "rstrip()\n",
    "strip()\n",
    "format()"
   ]
  },
  {
   "cell_type": "code",
   "execution_count": 45,
   "id": "7a92507f",
   "metadata": {},
   "outputs": [
    {
     "data": {
      "text/plain": [
       "'elephant'"
      ]
     },
     "execution_count": 45,
     "metadata": {},
     "output_type": "execute_result"
    }
   ],
   "source": [
    "val"
   ]
  },
  {
   "cell_type": "code",
   "execution_count": 46,
   "id": "d124aaba",
   "metadata": {},
   "outputs": [
    {
     "data": {
      "text/plain": [
       "8"
      ]
     },
     "execution_count": 46,
     "metadata": {},
     "output_type": "execute_result"
    }
   ],
   "source": [
    "len(val)"
   ]
  },
  {
   "cell_type": "code",
   "execution_count": 47,
   "id": "38a99df0",
   "metadata": {},
   "outputs": [
    {
     "data": {
      "text/plain": [
       "False"
      ]
     },
     "execution_count": 47,
     "metadata": {},
     "output_type": "execute_result"
    }
   ],
   "source": [
    "val.startswith('t')"
   ]
  },
  {
   "cell_type": "code",
   "execution_count": 48,
   "id": "76de60aa",
   "metadata": {},
   "outputs": [
    {
     "data": {
      "text/plain": [
       "True"
      ]
     },
     "execution_count": 48,
     "metadata": {},
     "output_type": "execute_result"
    }
   ],
   "source": [
    "val.endswith('t')"
   ]
  },
  {
   "cell_type": "code",
   "execution_count": 53,
   "id": "cc12d915",
   "metadata": {},
   "outputs": [
    {
     "data": {
      "text/plain": [
       "'elephant'"
      ]
     },
     "execution_count": 53,
     "metadata": {},
     "output_type": "execute_result"
    }
   ],
   "source": [
    "val"
   ]
  },
  {
   "cell_type": "code",
   "execution_count": 54,
   "id": "9d93a044",
   "metadata": {},
   "outputs": [
    {
     "data": {
      "text/plain": [
       "'lephant'"
      ]
     },
     "execution_count": 54,
     "metadata": {},
     "output_type": "execute_result"
    }
   ],
   "source": [
    "val.lstrip('e')"
   ]
  },
  {
   "cell_type": "code",
   "execution_count": 55,
   "id": "970a6ac5",
   "metadata": {},
   "outputs": [
    {
     "data": {
      "text/plain": [
       "'elep'"
      ]
     },
     "execution_count": 55,
     "metadata": {},
     "output_type": "execute_result"
    }
   ],
   "source": [
    "val.rstrip('hant')"
   ]
  },
  {
   "cell_type": "code",
   "execution_count": 61,
   "id": "92174da1",
   "metadata": {},
   "outputs": [],
   "source": [
    "val='Kanak'"
   ]
  },
  {
   "cell_type": "code",
   "execution_count": 62,
   "id": "f9419af5",
   "metadata": {},
   "outputs": [
    {
     "data": {
      "text/plain": [
       "'ana'"
      ]
     },
     "execution_count": 62,
     "metadata": {},
     "output_type": "execute_result"
    }
   ],
   "source": [
    "val.lstrip('K').rstrip('k')"
   ]
  },
  {
   "cell_type": "code",
   "execution_count": 58,
   "id": "994356f8",
   "metadata": {},
   "outputs": [],
   "source": [
    "val='kanak'"
   ]
  },
  {
   "cell_type": "code",
   "execution_count": 59,
   "id": "efc74976",
   "metadata": {},
   "outputs": [
    {
     "data": {
      "text/plain": [
       "'ana'"
      ]
     },
     "execution_count": 59,
     "metadata": {},
     "output_type": "execute_result"
    }
   ],
   "source": [
    "val.strip('k')"
   ]
  },
  {
   "cell_type": "code",
   "execution_count": 65,
   "id": "954453fd",
   "metadata": {},
   "outputs": [],
   "source": [
    "val='Mayank'"
   ]
  },
  {
   "cell_type": "code",
   "execution_count": 67,
   "id": "b2601b6e",
   "metadata": {},
   "outputs": [
    {
     "name": "stdout",
     "output_type": "stream",
     "text": [
      "This is Nitin i am from delhi\n"
     ]
    }
   ],
   "source": [
    "print(\"This is {} i am from delhi\".format('Nitin'))"
   ]
  }
 ],
 "metadata": {
  "kernelspec": {
   "display_name": "Python 3",
   "language": "python",
   "name": "python3"
  },
  "language_info": {
   "codemirror_mode": {
    "name": "ipython",
    "version": 3
   },
   "file_extension": ".py",
   "mimetype": "text/x-python",
   "name": "python",
   "nbconvert_exporter": "python",
   "pygments_lexer": "ipython3",
   "version": "3.8.8"
  }
 },
 "nbformat": 4,
 "nbformat_minor": 5
}
